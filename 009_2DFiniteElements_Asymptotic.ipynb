{
 "cells": [
  {
   "cell_type": "code",
   "execution_count": 9,
   "metadata": {},
   "outputs": [],
   "source": [
    "from PIL import Image\n",
    "\n",
    "size = 10\n",
    "img = Image.new(\"RGB\", (size,size), \"white\") # create a new 15x15 image\n",
    "pixels = img.load() # create the pixel map\n",
    "\n",
    "black_2 = []\n",
    "for i in range(img.size[0]):\n",
    "    if i % 2 == 0:\n",
    "        black_2.append(i)\n",
    "\n",
    "black_1 = [i-1 for i in black_2 if i > 0]\n",
    "if img.size[0] % 2 == 0: # 'that' if statement\n",
    "    black_1.append(img.size[0]-1)\n",
    "\n",
    "\n",
    "for i in black_1:\n",
    "    for j in range(0, size, 2):\n",
    "        pixels[i,j] = (0,0,0)\n",
    "\n",
    "for k in black_2:\n",
    "    for l in range(1, size+1, 2):\n",
    "        pixels[k,l] = (0,0,0)\n",
    "\n",
    "img.save(\"trialSquare.png\")"
   ]
  },
  {
   "cell_type": "code",
   "execution_count": 10,
   "metadata": {},
   "outputs": [],
   "source": [
    "import matplotlib.pyplot as plt"
   ]
  },
  {
   "cell_type": "code",
   "execution_count": 11,
   "metadata": {},
   "outputs": [],
   "source": [
    "img = plt.imread(\"trialSquare.png\")"
   ]
  },
  {
   "cell_type": "code",
   "execution_count": 13,
   "metadata": {},
   "outputs": [
    {
     "data": {
      "text/plain": [
       "<matplotlib.image.AxesImage at 0x21732217c88>"
      ]
     },
     "execution_count": 13,
     "metadata": {},
     "output_type": "execute_result"
    },
    {
     "data": {
      "image/png": "[encoded data removed]",
      "text/plain": [
       "<Figure size 576x576 with 1 Axes>"
      ]
     },
     "metadata": {
      "needs_background": "light"
     },
     "output_type": "display_data"
    }
   ],
   "source": [
    "plt.figure(figsize=(8,8))\n",
    "plt.imshow(img)"
   ]
  },
  {
   "cell_type": "code",
   "execution_count": null,
   "metadata": {},
   "outputs": [],
   "source": []
  }
 ],
 "metadata": {
  "kernelspec": {
   "display_name": "Python 3",
   "language": "python",
   "name": "python3"
  },
  "language_info": {
   "codemirror_mode": {
    "name": "ipython",
    "version": 3
   },
   "file_extension": ".py",
   "mimetype": "text/x-python",
   "name": "python",
   "nbconvert_exporter": "python",
   "pygments_lexer": "ipython3",
   "version": "3.7.5"
  }
 },
 "nbformat": 4,
 "nbformat_minor": 2
}
